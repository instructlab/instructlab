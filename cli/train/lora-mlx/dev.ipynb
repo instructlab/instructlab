{
 "cells": [
  {
   "cell_type": "code",
   "execution_count": 1,
   "metadata": {},
   "outputs": [],
   "source": [
    "from transformers import AutoModelForCausalLM, AutoTokenizer"
   ]
  },
  {
   "cell_type": "code",
   "execution_count": 3,
   "metadata": {},
   "outputs": [
    {
     "name": "stderr",
     "output_type": "stream",
     "text": [
      "Special tokens have been added in the vocabulary, make sure the associated word embeddings are fine-tuned or trained.\n"
     ]
    }
   ],
   "source": [
    "model_path = \"malachite-7b-mlx-fused-pt\"\n",
    "tokenizer = AutoTokenizer.from_pretrained(model_path)\n",
    "model = AutoModelForCausalLM.from_pretrained(model_path)"
   ]
  },
  {
   "cell_type": "code",
   "execution_count": 8,
   "metadata": {},
   "outputs": [
    {
     "data": {
      "text/plain": [
       "LlamaTokenizerFast(name_or_path='malachite-7b-mlx-fused-pt', vocab_size=32000, model_max_length=1000000000000000019884624838656, is_fast=True, padding_side='left', truncation_side='right', special_tokens={'bos_token': '<s>', 'eos_token': '<|endoftext|>', 'unk_token': '<unk>', 'pad_token': '<|pad|>', 'additional_special_tokens': ['<|pad|>', '<|user|>', '<|assistant|>', '<|system|>']}, clean_up_tokenization_spaces=False),  added_tokens_decoder={\n",
       "\t0: AddedToken(\"<unk>\", rstrip=False, lstrip=False, single_word=False, normalized=False, special=True),\n",
       "\t1: AddedToken(\"<s>\", rstrip=False, lstrip=False, single_word=False, normalized=False, special=True),\n",
       "\t2: AddedToken(\"</s>\", rstrip=False, lstrip=False, single_word=False, normalized=False, special=True),\n",
       "\t32000: AddedToken(\"<|endoftext|>\", rstrip=False, lstrip=False, single_word=False, normalized=False, special=True),\n",
       "\t32001: AddedToken(\"<|pad|>\", rstrip=False, lstrip=False, single_word=False, normalized=False, special=True),\n",
       "\t32002: AddedToken(\"<|user|>\", rstrip=False, lstrip=False, single_word=False, normalized=False, special=True),\n",
       "\t32003: AddedToken(\"<|assistant|>\", rstrip=False, lstrip=False, single_word=False, normalized=False, special=True),\n",
       "\t32004: AddedToken(\"<|system|>\", rstrip=False, lstrip=False, single_word=False, normalized=False, special=True),\n",
       "}"
      ]
     },
     "execution_count": 8,
     "metadata": {},
     "output_type": "execute_result"
    }
   ],
   "source": [
    "tokenizer"
   ]
  },
  {
   "cell_type": "markdown",
   "metadata": {},
   "source": [
    "---"
   ]
  },
  {
   "cell_type": "code",
   "execution_count": null,
   "metadata": {},
   "outputs": [],
   "source": [
    "tokenizer.save_pretrained(\"/Users/kai/src/open-labrador/mlx-examples/lora/malachite-7b\")\n",
    "model.save_pretrained(\"/Users/kai/src/open-labrador/mlx-examples/lora/malachite-7b\")"
   ]
  },
  {
   "cell_type": "code",
   "execution_count": null,
   "metadata": {},
   "outputs": [],
   "source": [
    "import json\n",
    "\n",
    "def format_text(obj):\n",
    "    return f\"\"\"\\\n",
    "<|system|>\n",
    "{obj['system']}\n",
    "<|user|>\n",
    "{obj['user']}\n",
    "<|assistant|>\n",
    "{obj['assistant']}<|endoftext|>\\\n",
    "\"\"\"\n",
    "\n",
    "fn = 'file.jsonl'\n",
    "\n",
    "# Load the JSON Lines file\n",
    "with open(fn, 'r') as f:\n",
    "    data = [json.loads(line) for line in f]\n",
    "\n",
    "# Add the \"text\" field with value \"x\" to each object\n",
    "for obj in data:\n",
    "    obj['text'] = format_text(obj)\n",
    "\n",
    "# Save the modified objects back to the JSON Lines file\n",
    "with open(fn, 'w') as f:\n",
    "    for obj in data:\n",
    "        f.write(json.dumps(obj) + '\\n')"
   ]
  },
  {
   "cell_type": "code",
   "execution_count": 2,
   "metadata": {},
   "outputs": [],
   "source": [
    "from transformers import AutoModelForCausalLM, AutoTokenizer"
   ]
  },
  {
   "cell_type": "code",
   "execution_count": 3,
   "metadata": {},
   "outputs": [
    {
     "data": {
      "text/plain": [
       "7.1106604"
      ]
     },
     "execution_count": 3,
     "metadata": {},
     "output_type": "execute_result"
    }
   ],
   "source": [
    "sum([7.184375, 7.065625, 7.14375, 7.028302, 7.13125])/5"
   ]
  },
  {
   "cell_type": "code",
   "execution_count": 5,
   "metadata": {},
   "outputs": [
    {
     "name": "stderr",
     "output_type": "stream",
     "text": [
      "Special tokens have been added in the vocabulary, make sure the associated word embeddings are fine-tuned or trained.\n"
     ]
    }
   ],
   "source": [
    "import os\n",
    "\n",
    "model_path = os.path.expanduser(\"~/artifacts/malachite-7b-0223-7.77\")\n",
    "\n",
    "tokenizer = AutoTokenizer.from_pretrained(model_path)\n",
    "model = AutoModelForCausalLM.from_pretrained(model_path)\n",
    "\n",
    "tokenizer.save_pretrained(\"/Users/kai/src/open-labrador/mlx-examples/lora/malachite-7b\")\n",
    "model.save_pretrained(\"/Users/kai/src/open-labrador/mlx-examples/lora/malachite-7b\")"
   ]
  },
  {
   "cell_type": "code",
   "execution_count": 6,
   "metadata": {},
   "outputs": [],
   "source": [
    "tokenizer.save_pretrained(\"/Users/kai/src/open-labrador/mlx-examples/lora/malachite-7b\")\n",
    "model.save_pretrained(\"/Users/kai/src/open-labrador/mlx-examples/lora/malachite-7b\")"
   ]
  },
  {
   "cell_type": "code",
   "execution_count": null,
   "metadata": {},
   "outputs": [],
   "source": []
  },
  {
   "cell_type": "code",
   "execution_count": 7,
   "metadata": {},
   "outputs": [
    {
     "data": {
      "text/plain": [
       "[('\\n', ''), ('\\n', ''), ('\\n', '')]"
      ]
     },
     "execution_count": 7,
     "metadata": {},
     "output_type": "execute_result"
    }
   ],
   "source": [
    "x = \"\\n### Question 1:\\n\\nYou are a doctor and you need to prescribe medication to your patients based on their symptoms. The medication is defined as follows:\\n\\nFor fever, cough and cold, prescribe Medicine A.\\nFor headache, stomach pain and nausea, prescribe Medicine B.\\nFor rashes, itching and allergies, prescribe Medicine C.\\nFor high blood pressure, diabetes and cholesterol, prescribe Medicine D.\\n\\nYou will be given a patient's symptoms as input and you need to output the medication.\\n\\nSymptoms : fever, cough and cold\\nMedication:\\xa0\\n\\n### Question 2:\\n\\nYou are a banker and you need to approve or reject a loan application based on the applicant's credit score. The credit score is defined as follows:\\n\\nFor credit score less than 500, reject the loan application.\\nFor credit score between 500 and 700, approve the loan application with a low interest rate.\\nFor credit score between 700 and 850, approve the loan application with a standard interest rate.\\nFor credit score above 850, approve the loan application with a high interest rate.\\n\\nYou will be given an applicant's credit score as input and you need to output the decision.\\n\\nCredit Score : 650\\nDecision:\\xa0\\n\\n### Question 3:\\n\\nYou are a chef and you need to suggest a dish to your customers based on their dietary restrictions. The dietary restrictions are defined as follows:\\n\\nFor vegetarian customers, suggest a vegetarian dish.\\nFor vegan customers, suggest a vegan dish.\\nFor gluten-free customers, suggest a gluten-free dish.\\nFor lactose-intolerant customers, suggest a lactose-free dish.\\n\\nYou will be given a customer's dietary restrictions as input and you need to suggest a dish.\\n\\nDietary Restrictions : vegetarian\\nDish Suggestion:\\xa0\"\n",
    "\n",
    "import re\n",
    "def extract_questions(input_text):\n",
    "    # Define the regex pattern to match questions\n",
    "\n",
    "    pattern = re.compile(r'### Question \\d+:(.+?)(\\n\\n\\s*### Question \\d+|$)', re.DOTALL | re.MULTILINE)\n",
    "    \n",
    "    # Find all matches in the input text\n",
    "    matches = pattern.findall(input_text)\n",
    "    \n",
    "    # Return the list of questions if there are matches, otherwise return None\n",
    "    return matches if matches else None\n",
    "\n",
    "extract_questions(x)"
   ]
  },
  {
   "cell_type": "code",
   "execution_count": 2,
   "metadata": {},
   "outputs": [
    {
     "data": {
      "text/plain": [
       "1"
      ]
     },
     "execution_count": 2,
     "metadata": {},
     "output_type": "execute_result"
    }
   ],
   "source": [
    "1000 // 1000"
   ]
  }
 ],
 "metadata": {
  "kernelspec": {
   "display_name": "open-lab",
   "language": "python",
   "name": "python3"
  },
  "language_info": {
   "codemirror_mode": {
    "name": "ipython",
    "version": 3
   },
   "file_extension": ".py",
   "mimetype": "text/x-python",
   "name": "python",
   "nbconvert_exporter": "python",
   "pygments_lexer": "ipython3",
   "version": "3.10.13"
  }
 },
 "nbformat": 4,
 "nbformat_minor": 2
}
