{
  "cells": [
    {
      "cell_type": "markdown",
      "metadata": {
        "id": "p63ObBag_gvQ"
      },
      "source": [
        "# Setups"
      ]
    },
    {
      "cell_type": "code",
      "execution_count": null,
      "metadata": {
        "colab": {
          "base_uri": "https://localhost:8080/"
        },
        "id": "v8Ah15MlL43_",
        "outputId": "a040b468-d4bd-492a-bb42-e1d7951ae5d1"
      },
      "outputs": [],
      "source": [
        "!pip install unstructured"
      ]
    },
    {
      "cell_type": "code",
      "execution_count": null,
      "metadata": {},
      "outputs": [],
      "source": [
        "!pip install llmsherpa"
      ]
    },
    {
      "cell_type": "code",
      "execution_count": null,
      "metadata": {
        "colab": {
          "base_uri": "https://localhost:8080/"
        },
        "id": "tzkoiJ-0PFE6",
        "outputId": "4a02b8a2-53dd-46ec-dbd4-0f12b1990b5b"
      },
      "outputs": [],
      "source": [
        "!sudo apt install tesseract-ocr\n",
        "!sudo apt install libtesseract-dev\n",
        "!pip install pytesseract"
      ]
    },
    {
      "cell_type": "code",
      "execution_count": null,
      "metadata": {
        "colab": {
          "base_uri": "https://localhost:8080/"
        },
        "id": "0tp8L89VOyaH",
        "outputId": "b2ed06cc-fb86-4bdd-a679-09596394828d"
      },
      "outputs": [],
      "source": [
        "!sudo apt-get install poppler-utils"
      ]
    },
    {
      "cell_type": "code",
      "execution_count": null,
      "metadata": {
        "colab": {
          "base_uri": "https://localhost:8080/"
        },
        "id": "R1mE8XEUNtnz",
        "outputId": "47e44225-caa4-43a6-fc46-023a8b4ca62f"
      },
      "outputs": [],
      "source": [
        "!pip install \"unstructured[docx,pptx,pdf]\""
      ]
    },
    {
      "cell_type": "code",
      "execution_count": null,
      "metadata": {
        "colab": {
          "base_uri": "https://localhost:8080/"
        },
        "id": "p_ztXeahNCU6",
        "outputId": "ec1ddae5-583a-4e41-912b-1335652ca37e"
      },
      "outputs": [],
      "source": [
        "!pip install pdf2image"
      ]
    },
    {
      "cell_type": "code",
      "execution_count": null,
      "metadata": {
        "colab": {
          "base_uri": "https://localhost:8080/"
        },
        "id": "AalyNubMMcaS",
        "outputId": "2c578db8-474d-4eb6-a66b-4244cfa40bfa"
      },
      "outputs": [],
      "source": [
        "!pip install pillow_heif"
      ]
    },
    {
      "cell_type": "code",
      "execution_count": null,
      "metadata": {
        "colab": {
          "base_uri": "https://localhost:8080/"
        },
        "id": "ou64OFoBMV-I",
        "outputId": "98dbd719-11d3-45f5-e015-87cd95b3152c"
      },
      "outputs": [],
      "source": [
        "!pip install pdfminer.six"
      ]
    },
    {
      "cell_type": "code",
      "execution_count": null,
      "metadata": {
        "colab": {
          "base_uri": "https://localhost:8080/"
        },
        "id": "lq8-xDPHt49K",
        "outputId": "5f960d69-41dc-4f2a-849f-77b3eb25d089"
      },
      "outputs": [],
      "source": [
        "!python3 -m spacy download en_core_web_md"
      ]
    },
    {
      "cell_type": "code",
      "execution_count": null,
      "metadata": {
        "colab": {
          "base_uri": "https://localhost:8080/"
        },
        "id": "n99HRIb48TPS",
        "outputId": "7b9139f5-2057-4f47-a1e5-1c1f50faae1d"
      },
      "outputs": [],
      "source": [
        "%pip install langchain"
      ]
    },
    {
      "cell_type": "code",
      "execution_count": null,
      "metadata": {
        "colab": {
          "base_uri": "https://localhost:8080/"
        },
        "id": "a9iMzaIpuAwx",
        "outputId": "4861b4a0-ca16-4174-e154-c317d91e5e05"
      },
      "outputs": [],
      "source": [
        "!wget 'https://raw.githubusercontent.com/run-llama/llama_index/main/docs/docs/examples/data/paul_graham/paul_graham_essay.txt' -O 'pg_essay.txt'"
      ]
    },
    {
      "cell_type": "code",
      "execution_count": null,
      "metadata": {
        "colab": {
          "base_uri": "https://localhost:8080/"
        },
        "id": "NOHf6V3LuSLH",
        "outputId": "0dfc2198-78c7-4140-f40c-fc535b5fffb7"
      },
      "outputs": [],
      "source": [
        "! pip install llama_index"
      ]
    },
    {
      "cell_type": "code",
      "execution_count": null,
      "metadata": {
        "id": "k3him9wMGe84"
      },
      "outputs": [],
      "source": [
        "%pip install -qU langchain-text-splitters"
      ]
    },
    {
      "cell_type": "code",
      "execution_count": null,
      "metadata": {
        "colab": {
          "base_uri": "https://localhost:8080/"
        },
        "id": "4tl6JzQSwjgz",
        "outputId": "866546da-defc-4859-833a-6322732a6e9e"
      },
      "outputs": [],
      "source": [
        "%pip install llama-index-embeddings-openai"
      ]
    },
    {
      "cell_type": "code",
      "execution_count": null,
      "metadata": {
        "colab": {
          "base_uri": "https://localhost:8080/"
        },
        "id": "Z-5Mwgpq0kOB",
        "outputId": "eddb25e0-bcf8-43b7-f0ef-a6ff13153ac4"
      },
      "outputs": [],
      "source": [
        "!pip install llama-index-embeddings-huggingface"
      ]
    },
    {
      "cell_type": "markdown",
      "metadata": {
        "id": "f1zl4M-MTMAi"
      },
      "source": [
        "# References:\n",
        "* https://github.com/FullStackRetrieval-com/RetrievalTutorials/blob/main/tutorials/LevelsOfTextSplitting/5_Levels_Of_Text_Splitting.ipynb\n",
        "* https://docs.llamaindex.ai/en/stable/examples/node_parsers/semantic_chunking/"
      ]
    },
    {
      "cell_type": "markdown",
      "metadata": {},
      "source": [
        "# Markdown Chunking using LLMSherpa\n",
        "\n",
        "Using LLMSherpa, a library for reading and processing documents, we can easily convert PDF content into Markdown and then divide it into chunks. LLMSherpa's LayoutPDFReader class helps extract text from PDFs accurately, and with the help of a tokenizer, we can create consistent chunk sizes. This process makes the text easier to handle for further analysis or natural language processing tasks."
      ]
    },
    {
      "cell_type": "code",
      "execution_count": null,
      "metadata": {},
      "outputs": [],
      "source": [
        "# Import necessary libraries\n",
        "from pathlib import Path\n",
        "import traceback\n",
        "from llmsherpa.readers import LayoutPDFReader\n",
        "from tqdm import tqdm\n",
        "from datasets import Dataset\n",
        "from transformers import AutoTokenizer\n",
        "import numpy as np\n",
        "import json"
      ]
    },
    {
      "cell_type": "markdown",
      "metadata": {},
      "source": [
        "We use a tokenizer to break down the Markdown content into smaller tokenized chunks. This helps in creating manageable sections of text that are suitable for further processing."
      ]
    },
    {
      "cell_type": "code",
      "execution_count": null,
      "metadata": {},
      "outputs": [],
      "source": [
        "tokenizer = AutoTokenizer.from_pretrained(\"instructlab/granite-7b-lab\")"
      ]
    },
    {
      "cell_type": "markdown",
      "metadata": {},
      "source": [
        "This function chunk_markdown takes a document and breaks it into smaller chunks of text based on the number of tokens."
      ]
    },
    {
      "cell_type": "code",
      "execution_count": null,
      "metadata": {},
      "outputs": [],
      "source": [
        "# Function to chunk Markdown content\n",
        "def chunk_markdown(doc, max_threshold_tokens=3000, min_threshold_tokens=300):\n",
        "    tokens = tokenizer.encode(doc)\n",
        "    num_tokens = len(tokens)\n",
        "\n",
        "    if num_tokens < min_threshold_tokens:\n",
        "        return Dataset.from_dict({'input': [], 'num_tokens': []})\n",
        "\n",
        "    chunks = []\n",
        "    i = 0\n",
        "    while i < num_tokens:\n",
        "        threshold = np.random.randint(min_threshold_tokens, max_threshold_tokens)\n",
        "        end = min(i + threshold, num_tokens)\n",
        "        chunk = tokens[i:end]\n",
        "        chunks.append({'input': tokenizer.decode(chunk), 'metadata': json.dumps({'num_tokens': len(chunk)})})\n",
        "        i += threshold\n",
        "\n",
        "    return Dataset.from_list(chunks)"
      ]
    },
    {
      "cell_type": "code",
      "execution_count": null,
      "metadata": {},
      "outputs": [],
      "source": [
        "# pdf file path\n",
        "file_path = './pdfs/redbook-example.pdf'"
      ]
    },
    {
      "cell_type": "code",
      "execution_count": null,
      "metadata": {},
      "outputs": [],
      "source": [
        "# Initialize llmsherpa LayoutPDFReader, available in github https://github.com/nlmatics/llmsherpa\n",
        "llmsherpa_api_url = \"https://readers.llmsherpa.com/api/document/developer/parseDocument?renderFormat=all\"\n",
        "pdf_reader = LayoutPDFReader(llmsherpa_api_url)\n",
        "\n",
        "# Read the PDF file\n",
        "doc = pdf_reader.read_pdf(file_path)\n",
        "\n",
        "# Convert PDF to text and then to Markdown\n",
        "markdown_content = doc.to_text()\n",
        "\n",
        "# Chunk the Markdown content\n",
        "markdown_chunks = chunk_markdown(markdown_content, min_threshold_tokens=300, max_threshold_tokens=3000)\n",
        "\n",
        "# Print the number of chunks\n",
        "print(f\"Number of chunks: {len(markdown_chunks)}\")"
      ]
    },
    {
      "cell_type": "code",
      "execution_count": null,
      "metadata": {},
      "outputs": [],
      "source": [
        "# Print the Markdown chunks\n",
        "for doc in markdown_chunks:\n",
        "    print(\"------------------------------------------------------------------------------------------------------------------------------------------\")\n",
        "    print(doc['input'])"
      ]
    },
    {
      "cell_type": "markdown",
      "metadata": {
        "id": "H6saQkqjDpcO"
      },
      "source": [
        "# Document Specific Chunking\n",
        "Basically a rule-based specific chunking method that applies different seperators to different kinds of contexts.\n",
        "\n",
        "Langchain.RecursiveCharacterTextSplitter supports different various kinds of splitters. Lists of document-specific splitting method they provide:\n",
        "* Split by HTML header\n",
        "* Split by HTML section\n",
        "* Split code\n",
        "* MarkdownHeaderTextSplitter\n",
        "* Recursively split JSON"
      ]
    },
    {
      "cell_type": "markdown",
      "metadata": {
        "id": "sm9K-k_AJ37Z"
      },
      "source": [
        "## Code\n",
        "Below is demonstration on text splitting between code.\n",
        "```\n",
        "# You can also see the separators used for a given language\n",
        "RecursiveCharacterTextSplitter.get_separators_for_language(Language.PYTHON)\n",
        "```"
      ]
    },
    {
      "cell_type": "code",
      "execution_count": null,
      "metadata": {
        "colab": {
          "base_uri": "https://localhost:8080/"
        },
        "id": "blP-2pOnGnG7",
        "outputId": "31d623af-1a23-45d3-8fbc-0a6162c2b330"
      },
      "outputs": [],
      "source": [
        "from langchain_text_splitters import (\n",
        "    Language,\n",
        "    RecursiveCharacterTextSplitter,\n",
        ")\n",
        "\n",
        "print(RecursiveCharacterTextSplitter.get_separators_for_language(Language.PYTHON))"
      ]
    },
    {
      "cell_type": "code",
      "execution_count": null,
      "metadata": {
        "id": "l9iof7P8GbFK"
      },
      "outputs": [],
      "source": [
        "file_path = '/content/utils.py'\n",
        "\n",
        "with open(file_path, 'r') as file:\n",
        "    PYTHON_CODE = file.read()\n",
        "\n",
        "python_splitter = RecursiveCharacterTextSplitter.from_language(\n",
        "    language=Language.PYTHON, chunk_size=1024, chunk_overlap=0\n",
        ")\n",
        "python_docs = python_splitter.create_documents([PYTHON_CODE])"
      ]
    },
    {
      "cell_type": "markdown",
      "metadata": {
        "id": "rWyrysPyHokk"
      },
      "source": [
        "### Output - Python"
      ]
    },
    {
      "cell_type": "code",
      "execution_count": null,
      "metadata": {
        "colab": {
          "base_uri": "https://localhost:8080/"
        },
        "id": "pJKrPj73Hp5g",
        "outputId": "a98f9b90-9b74-42ab-8ea5-d27eb7f73f86"
      },
      "outputs": [],
      "source": [
        "for doc in python_docs:\n",
        "    print(\"------------------------------------------------------------------------------------------------------------------------------------------\")\n",
        "    print(doc.page_content)"
      ]
    },
    {
      "cell_type": "markdown",
      "metadata": {
        "id": "a-sB0pnFHvWP"
      },
      "source": [
        "## HTML, Markdown, and JSON\n",
        "HTML, Markdown and JSON all represents similar traits where they could be chunked by character-level seperators."
      ]
    },
    {
      "cell_type": "markdown",
      "metadata": {
        "id": "cBQ7nl-nKbR2"
      },
      "source": [
        "## PDF\n",
        "For PDFs, there are two parts: texts in PDF and images. Potential chunking methods are:\n",
        "\n",
        "**Method 1 (Rule-based)**\n",
        "1. Use OCR models to extract texts from PDF (all pdf extractors use this underneeth)\n",
        "2. Filter out JSON/Markdown/readable texts with document-specific rules.\n",
        "3. Tweak these rules and construct chunks.\n",
        "\n",
        "**Method 2 (Multimodal Embedding)**\n",
        "1. Using multimodal models and embed texts, images, and everythig.\n",
        "2. Group by context similarity.\n",
        "\n"
      ]
    },
    {
      "cell_type": "code",
      "execution_count": null,
      "metadata": {
        "id": "KET79ia7KFDn"
      },
      "outputs": [],
      "source": [
        "import os\n",
        "from unstructured.partition.pdf import partition_pdf\n",
        "from unstructured.staging.base import elements_to_json"
      ]
    },
    {
      "cell_type": "code",
      "execution_count": null,
      "metadata": {
        "colab": {
          "base_uri": "https://localhost:8080/",
          "height": 185,
          "referenced_widgets": [
            "e12d4298f6dc48deb9e1d273203d4b9d",
            "041c473c443f49b7a2ca228a5e188dd4",
            "ecd7b49b88554b3cb76ea643e51a227a",
            "4bbbf5e46bf94e92a7528d66180c0819",
            "288c1903cfe14b8090d5a42cf7097533",
            "8181ce97f2024e299ea4737c38ef8021",
            "60604c2b27c840d1850708f9e9f852a7",
            "2d8382722fc24a689e43cde809cc58bc",
            "4eb53cc7144f4bb5aa72352679536da5",
            "59ecdcd466494511be1019e163283fad",
            "779b29d556e34c6d89f9a52f5a53838b",
            "d561a72eab0242c58728137cdc1e8dcf",
            "83732ff1b9ae4bcb8901935d07237a48",
            "330a8b08bf5943299c3e8f224ee03a23",
            "f319f9e1308f4cb2be47284d6735b91e",
            "bc62b892b51d415aacdcb8bb0de7720d",
            "c7207b3f25e14bf6bc89839907ce7f40",
            "5693158e2f734087929795769097194d",
            "d3e1f27e5031443bb641becd0eb5672e",
            "a6d6e7ae14a04979ba6078e9542dba54",
            "2e2b8c9a2f4340ab98d3011410d5f5b1",
            "5c3c637ad2034edf94d00f062eab0f6d",
            "a8b87f1a836a40c0903773e0807150f3",
            "5bda1394ab524dc29315d8499ac9476f",
            "a21b3b4d434d4f96aab4ca184c021d0e",
            "02b95bb2701848f499c35d447fc70fb9",
            "51926d43606249929176d7d1b41f3eaf",
            "3ffdec440cae454eb3444e1f33b0c2e3",
            "7729c3ecd6874c1b8e7c8004ef26d96e",
            "d6ae649bdd434f56901e7c5485c43d4e",
            "5899bea8be6b487baf14b29f8ea2d7ce",
            "c3d58eefa0d34158bdcfbfd2e0a17387",
            "19fbe560e6cd43bf993e5f9fbb453c4f"
          ]
        },
        "id": "Cl8c4Q8bNJeD",
        "outputId": "4a2a2086-ddd8-4598-9345-5458c4b39c43"
      },
      "outputs": [],
      "source": [
        "filename = \"SalesforceFinancial.pdf\"\n",
        "\n",
        "# Extracts the elements from the PDF\n",
        "elements = partition_pdf(\n",
        "    filename=filename,\n",
        "\n",
        "    # Unstructured Helpers\n",
        "    strategy=\"hi_res\",\n",
        "    infer_table_structure=True,\n",
        "    model_name=\"yolox\"\n",
        ")\n"
      ]
    },
    {
      "cell_type": "code",
      "execution_count": null,
      "metadata": {
        "colab": {
          "base_uri": "https://localhost:8080/"
        },
        "id": "OzQWjQQFPYfr",
        "outputId": "cf8e5260-d24e-4118-b8c3-d021d10f9bd4"
      },
      "outputs": [],
      "source": [
        "elements"
      ]
    },
    {
      "cell_type": "code",
      "execution_count": null,
      "metadata": {
        "colab": {
          "base_uri": "https://localhost:8080/"
        },
        "id": "7Ge3KwzyPoAP",
        "outputId": "b8c3f029-0bbb-4830-b8de-1cf8c53dcda6"
      },
      "outputs": [],
      "source": [
        "print(type(elements[-5]))\n",
        "print(type(elements[-5].metadata))"
      ]
    },
    {
      "cell_type": "code",
      "execution_count": null,
      "metadata": {
        "colab": {
          "base_uri": "https://localhost:8080/",
          "height": 122
        },
        "id": "dAovSVTgPaoH",
        "outputId": "242b1952-aae9-4aa9-db6a-dd61100c87cf"
      },
      "outputs": [],
      "source": [
        "elements[-5].metadata.text_as_html"
      ]
    },
    {
      "cell_type": "markdown",
      "metadata": {
        "id": "O8lEnxbyw0h6"
      },
      "source": [
        "# Semantic Chunker"
      ]
    },
    {
      "cell_type": "markdown",
      "metadata": {
        "id": "5Li40yXb_22S"
      },
      "source": [
        "## Concepts\n",
        "Position-based chunking do not necessarily share the same contexts. Meaning and contexts of a chunk should be taken consideration to make our chunk. After applying embeddings,chunks with more similiar meanings/contexts should have smaller distances.\n",
        "\n",
        "Analogy: Grouping books not by shelf-size, instead, by \"genre\"."
      ]
    },
    {
      "cell_type": "code",
      "execution_count": null,
      "metadata": {
        "id": "iT6BLHfBw2Ue"
      },
      "outputs": [],
      "source": [
        "from llama_index.core import SimpleDirectoryReader\n",
        "\n",
        "# load documents\n",
        "documents = SimpleDirectoryReader(input_files=[\"/content/utils.py\"]).load_data()"
      ]
    },
    {
      "cell_type": "code",
      "execution_count": null,
      "metadata": {
        "id": "95F_8IG4w4-E"
      },
      "outputs": [],
      "source": [
        "from llama_index.embeddings.huggingface import HuggingFaceEmbedding\n",
        "from llama_index.core import Settings\n",
        "from transformers import AutoTokenizer\n",
        "\n",
        "# This is setting global default, not recommended\n",
        "bge_small = HuggingFaceEmbedding(\n",
        "    model_name=\"BAAI/bge-small-en-v1.5\"\n",
        ")\n",
        "\n",
        "# tokenizer = AutoTokenizer.from_pretrained(\"instructlab/granite-7b-lab\")"
      ]
    },
    {
      "cell_type": "code",
      "execution_count": null,
      "metadata": {
        "id": "JtHrbHfU1WTf"
      },
      "outputs": [],
      "source": [
        "from llama_index.core.node_parser import (\n",
        "    SentenceSplitter,\n",
        "    SemanticSplitterNodeParser,\n",
        ")\n",
        "\n",
        "splitter = SemanticSplitterNodeParser(\n",
        "    buffer_size=1, breakpoint_percentile_threshold=90, embed_model=bge_small\n",
        ")\n",
        "\n",
        "# also baseline splitter\n",
        "base_splitter = SentenceSplitter(chunk_size=512)"
      ]
    },
    {
      "cell_type": "code",
      "execution_count": null,
      "metadata": {
        "id": "7YUFxy0c8ENX"
      },
      "outputs": [],
      "source": [
        "# from langchain_text_splitters import RecursiveCharacterTextSplitter\n",
        "\n",
        "# def base_splitter_wrapper(text):\n",
        "#     text_splitter = RecursiveCharacterTextSplitter(\n",
        "#         separators=[\"\\n\\n\", \"\\n\", \" \"],\n",
        "#         chunk_size=num_chars_from_tokens(no_tokens_per_doc),\n",
        "#         chunk_overlap=DEFAULT_CHUNK_OVERLAP,\n",
        "#     )\n",
        "#     return base_splitter.split_text(text)"
      ]
    },
    {
      "cell_type": "markdown",
      "metadata": {
        "id": "c3f0rRKv5iP8"
      },
      "source": [
        "## Inspection"
      ]
    },
    {
      "cell_type": "code",
      "execution_count": null,
      "metadata": {
        "colab": {
          "base_uri": "https://localhost:8080/"
        },
        "id": "L3npXpKi5RZP",
        "outputId": "ce915d47-2a15-4f8a-d108-4554b89e62a2"
      },
      "outputs": [],
      "source": [
        "nodes = splitter.get_nodes_from_documents(documents)\n",
        "print(len(nodes))"
      ]
    },
    {
      "cell_type": "code",
      "execution_count": null,
      "metadata": {
        "colab": {
          "base_uri": "https://localhost:8080/"
        },
        "id": "Loi7m_mx5gym",
        "outputId": "61858e42-8f52-4385-c123-a51ad23629fc"
      },
      "outputs": [],
      "source": [
        "for node in nodes:\n",
        "    print(len(node.get_content()))"
      ]
    },
    {
      "cell_type": "code",
      "execution_count": null,
      "metadata": {
        "colab": {
          "base_uri": "https://localhost:8080/"
        },
        "id": "qgD99Hjl77Zd",
        "outputId": "3377b8f2-cfd1-4772-d620-8568f068fb39"
      },
      "outputs": [],
      "source": [
        "print(nodes[5].get_content())"
      ]
    },
    {
      "cell_type": "code",
      "execution_count": null,
      "metadata": {
        "colab": {
          "base_uri": "https://localhost:8080/"
        },
        "id": "hhvvhpdQ7iMg",
        "outputId": "786c2496-f2f7-4fee-f32e-ee9d3085239f"
      },
      "outputs": [],
      "source": [
        "for node in nodes:\n",
        "    print(node.get_content())"
      ]
    },
    {
      "cell_type": "code",
      "execution_count": null,
      "metadata": {
        "id": "ekzoBHz57sv1"
      },
      "outputs": [],
      "source": []
    },
    {
      "cell_type": "markdown",
      "metadata": {
        "id": "A93MiGpWRE_X"
      },
      "source": [
        "# Summary\n",
        "## Conclusions\n",
        "1. Using LLMSherpa to convert from PDF to markdown then chunking from markdown is the current method we use.\n",
        "2. Document Specific Chunking may be the best methods for our current scenarios.\n",
        "3. Semantic Chunking could be applied to natural language, not sure about code."
      ]
    },
    {
      "cell_type": "markdown",
      "metadata": {
        "id": "6H6V4sa8F4PO"
      },
      "source": [
        "# Split by Tokens"
      ]
    },
    {
      "cell_type": "markdown",
      "metadata": {
        "id": "7-JI9DhFwxcz"
      },
      "source": [
        "# Semantic Double Merging Chunking"
      ]
    },
    {
      "cell_type": "code",
      "execution_count": null,
      "metadata": {
        "id": "hqhzbP3quMm1"
      },
      "outputs": [],
      "source": [
        "from llama_index.core.node_parser import (\n",
        "    SemanticDoubleMergingSplitterNodeParser,\n",
        "    LanguageConfig,\n",
        ")\n",
        "from llama_index.core import SimpleDirectoryReader"
      ]
    },
    {
      "cell_type": "code",
      "execution_count": null,
      "metadata": {
        "colab": {
          "base_uri": "https://localhost:8080/"
        },
        "id": "jRKXZTx4uO3a",
        "outputId": "c965bb52-5ded-4a87-8fea-79ddd193a956"
      },
      "outputs": [],
      "source": [
        "with open('/content/pg_essay.txt', 'r', encoding='utf-8') as file:\n",
        "    content = file.read()\n",
        "    char_length = len(content)\n",
        "\n",
        "print(\"Number of characters in the file:\", char_length)"
      ]
    },
    {
      "cell_type": "code",
      "execution_count": null,
      "metadata": {
        "id": "dO1dIH0Vv7Qg"
      },
      "outputs": [],
      "source": [
        "documents = SimpleDirectoryReader(input_files=[\"pg_essay.txt\"]).load_data()\n",
        "\n",
        "config = LanguageConfig(language=\"english\", spacy_model=\"en_core_web_md\")\n",
        "splitter = SemanticDoubleMergingSplitterNodeParser(\n",
        "    language_config=config,\n",
        "    initial_threshold=0.4,\n",
        "    appending_threshold=0.5,\n",
        "    merging_threshold=0.5,\n",
        "    max_chunk_size=5000,\n",
        ")"
      ]
    },
    {
      "cell_type": "code",
      "execution_count": null,
      "metadata": {
        "colab": {
          "base_uri": "https://localhost:8080/"
        },
        "id": "kbFNrnkYwA3W",
        "outputId": "a76512ac-207a-42cf-ffb2-b09d65d73190"
      },
      "outputs": [],
      "source": [
        "nodes = splitter.get_nodes_from_documents(documents)"
      ]
    },
    {
      "cell_type": "code",
      "execution_count": null,
      "metadata": {
        "colab": {
          "base_uri": "https://localhost:8080/"
        },
        "id": "8nzHgHVAwc7G",
        "outputId": "0e4f25de-084c-42d3-a3a7-4c71804853c8"
      },
      "outputs": [],
      "source": [
        "print(nodes[0].get_content())"
      ]
    }
  ],
  "metadata": {
    "colab": {
      "collapsed_sections": [
        "7-JI9DhFwxcz"
      ],
      "machine_shape": "hm",
      "provenance": [],
      "toc_visible": true
    },
    "kernelspec": {
      "display_name": "Python 3",
      "name": "python3"
    },
    "language_info": {
      "codemirror_mode": {
        "name": "ipython",
        "version": 3
      },
      "file_extension": ".py",
      "mimetype": "text/x-python",
      "name": "python",
      "nbconvert_exporter": "python",
      "pygments_lexer": "ipython3",
      "version": "3.9.6"
    },
    "widgets": {
      "application/vnd.jupyter.widget-state+json": {
        "02b95bb2701848f499c35d447fc70fb9": {
          "model_module": "@jupyter-widgets/controls",
          "model_module_version": "1.5.0",
          "model_name": "HTMLModel",
          "state": {
            "_dom_classes": [],
            "_model_module": "@jupyter-widgets/controls",
            "_model_module_version": "1.5.0",
            "_model_name": "HTMLModel",
            "_view_count": null,
            "_view_module": "@jupyter-widgets/controls",
            "_view_module_version": "1.5.0",
            "_view_name": "HTMLView",
            "description": "",
            "description_tooltip": null,
            "layout": "IPY_MODEL_c3d58eefa0d34158bdcfbfd2e0a17387",
            "placeholder": "​",
            "style": "IPY_MODEL_19fbe560e6cd43bf993e5f9fbb453c4f",
            "value": " 46.8M/46.8M [00:00&lt;00:00, 101MB/s]"
          }
        },
        "041c473c443f49b7a2ca228a5e188dd4": {
          "model_module": "@jupyter-widgets/controls",
          "model_module_version": "1.5.0",
          "model_name": "HTMLModel",
          "state": {
            "_dom_classes": [],
            "_model_module": "@jupyter-widgets/controls",
            "_model_module_version": "1.5.0",
            "_model_name": "HTMLModel",
            "_view_count": null,
            "_view_module": "@jupyter-widgets/controls",
            "_view_module_version": "1.5.0",
            "_view_name": "HTMLView",
            "description": "",
            "description_tooltip": null,
            "layout": "IPY_MODEL_8181ce97f2024e299ea4737c38ef8021",
            "placeholder": "​",
            "style": "IPY_MODEL_60604c2b27c840d1850708f9e9f852a7",
            "value": "config.json: 100%"
          }
        },
        "19fbe560e6cd43bf993e5f9fbb453c4f": {
          "model_module": "@jupyter-widgets/controls",
          "model_module_version": "1.5.0",
          "model_name": "DescriptionStyleModel",
          "state": {
            "_model_module": "@jupyter-widgets/controls",
            "_model_module_version": "1.5.0",
            "_model_name": "DescriptionStyleModel",
            "_view_count": null,
            "_view_module": "@jupyter-widgets/base",
            "_view_module_version": "1.2.0",
            "_view_name": "StyleView",
            "description_width": ""
          }
        },
        "288c1903cfe14b8090d5a42cf7097533": {
          "model_module": "@jupyter-widgets/base",
          "model_module_version": "1.2.0",
          "model_name": "LayoutModel",
          "state": {
            "_model_module": "@jupyter-widgets/base",
            "_model_module_version": "1.2.0",
            "_model_name": "LayoutModel",
            "_view_count": null,
            "_view_module": "@jupyter-widgets/base",
            "_view_module_version": "1.2.0",
            "_view_name": "LayoutView",
            "align_content": null,
            "align_items": null,
            "align_self": null,
            "border": null,
            "bottom": null,
            "display": null,
            "flex": null,
            "flex_flow": null,
            "grid_area": null,
            "grid_auto_columns": null,
            "grid_auto_flow": null,
            "grid_auto_rows": null,
            "grid_column": null,
            "grid_gap": null,
            "grid_row": null,
            "grid_template_areas": null,
            "grid_template_columns": null,
            "grid_template_rows": null,
            "height": null,
            "justify_content": null,
            "justify_items": null,
            "left": null,
            "margin": null,
            "max_height": null,
            "max_width": null,
            "min_height": null,
            "min_width": null,
            "object_fit": null,
            "object_position": null,
            "order": null,
            "overflow": null,
            "overflow_x": null,
            "overflow_y": null,
            "padding": null,
            "right": null,
            "top": null,
            "visibility": null,
            "width": null
          }
        },
        "2d8382722fc24a689e43cde809cc58bc": {
          "model_module": "@jupyter-widgets/base",
          "model_module_version": "1.2.0",
          "model_name": "LayoutModel",
          "state": {
            "_model_module": "@jupyter-widgets/base",
            "_model_module_version": "1.2.0",
            "_model_name": "LayoutModel",
            "_view_count": null,
            "_view_module": "@jupyter-widgets/base",
            "_view_module_version": "1.2.0",
            "_view_name": "LayoutView",
            "align_content": null,
            "align_items": null,
            "align_self": null,
            "border": null,
            "bottom": null,
            "display": null,
            "flex": null,
            "flex_flow": null,
            "grid_area": null,
            "grid_auto_columns": null,
            "grid_auto_flow": null,
            "grid_auto_rows": null,
            "grid_column": null,
            "grid_gap": null,
            "grid_row": null,
            "grid_template_areas": null,
            "grid_template_columns": null,
            "grid_template_rows": null,
            "height": null,
            "justify_content": null,
            "justify_items": null,
            "left": null,
            "margin": null,
            "max_height": null,
            "max_width": null,
            "min_height": null,
            "min_width": null,
            "object_fit": null,
            "object_position": null,
            "order": null,
            "overflow": null,
            "overflow_x": null,
            "overflow_y": null,
            "padding": null,
            "right": null,
            "top": null,
            "visibility": null,
            "width": null
          }
        },
        "2e2b8c9a2f4340ab98d3011410d5f5b1": {
          "model_module": "@jupyter-widgets/base",
          "model_module_version": "1.2.0",
          "model_name": "LayoutModel",
          "state": {
            "_model_module": "@jupyter-widgets/base",
            "_model_module_version": "1.2.0",
            "_model_name": "LayoutModel",
            "_view_count": null,
            "_view_module": "@jupyter-widgets/base",
            "_view_module_version": "1.2.0",
            "_view_name": "LayoutView",
            "align_content": null,
            "align_items": null,
            "align_self": null,
            "border": null,
            "bottom": null,
            "display": null,
            "flex": null,
            "flex_flow": null,
            "grid_area": null,
            "grid_auto_columns": null,
            "grid_auto_flow": null,
            "grid_auto_rows": null,
            "grid_column": null,
            "grid_gap": null,
            "grid_row": null,
            "grid_template_areas": null,
            "grid_template_columns": null,
            "grid_template_rows": null,
            "height": null,
            "justify_content": null,
            "justify_items": null,
            "left": null,
            "margin": null,
            "max_height": null,
            "max_width": null,
            "min_height": null,
            "min_width": null,
            "object_fit": null,
            "object_position": null,
            "order": null,
            "overflow": null,
            "overflow_x": null,
            "overflow_y": null,
            "padding": null,
            "right": null,
            "top": null,
            "visibility": null,
            "width": null
          }
        },
        "330a8b08bf5943299c3e8f224ee03a23": {
          "model_module": "@jupyter-widgets/controls",
          "model_module_version": "1.5.0",
          "model_name": "FloatProgressModel",
          "state": {
            "_dom_classes": [],
            "_model_module": "@jupyter-widgets/controls",
            "_model_module_version": "1.5.0",
            "_model_name": "FloatProgressModel",
            "_view_count": null,
            "_view_module": "@jupyter-widgets/controls",
            "_view_module_version": "1.5.0",
            "_view_name": "ProgressView",
            "bar_style": "success",
            "description": "",
            "description_tooltip": null,
            "layout": "IPY_MODEL_d3e1f27e5031443bb641becd0eb5672e",
            "max": 115434268,
            "min": 0,
            "orientation": "horizontal",
            "style": "IPY_MODEL_a6d6e7ae14a04979ba6078e9542dba54",
            "value": 115434268
          }
        },
        "3ffdec440cae454eb3444e1f33b0c2e3": {
          "model_module": "@jupyter-widgets/base",
          "model_module_version": "1.2.0",
          "model_name": "LayoutModel",
          "state": {
            "_model_module": "@jupyter-widgets/base",
            "_model_module_version": "1.2.0",
            "_model_name": "LayoutModel",
            "_view_count": null,
            "_view_module": "@jupyter-widgets/base",
            "_view_module_version": "1.2.0",
            "_view_name": "LayoutView",
            "align_content": null,
            "align_items": null,
            "align_self": null,
            "border": null,
            "bottom": null,
            "display": null,
            "flex": null,
            "flex_flow": null,
            "grid_area": null,
            "grid_auto_columns": null,
            "grid_auto_flow": null,
            "grid_auto_rows": null,
            "grid_column": null,
            "grid_gap": null,
            "grid_row": null,
            "grid_template_areas": null,
            "grid_template_columns": null,
            "grid_template_rows": null,
            "height": null,
            "justify_content": null,
            "justify_items": null,
            "left": null,
            "margin": null,
            "max_height": null,
            "max_width": null,
            "min_height": null,
            "min_width": null,
            "object_fit": null,
            "object_position": null,
            "order": null,
            "overflow": null,
            "overflow_x": null,
            "overflow_y": null,
            "padding": null,
            "right": null,
            "top": null,
            "visibility": null,
            "width": null
          }
        },
        "4bbbf5e46bf94e92a7528d66180c0819": {
          "model_module": "@jupyter-widgets/controls",
          "model_module_version": "1.5.0",
          "model_name": "HTMLModel",
          "state": {
            "_dom_classes": [],
            "_model_module": "@jupyter-widgets/controls",
            "_model_module_version": "1.5.0",
            "_model_name": "HTMLModel",
            "_view_count": null,
            "_view_module": "@jupyter-widgets/controls",
            "_view_module_version": "1.5.0",
            "_view_name": "HTMLView",
            "description": "",
            "description_tooltip": null,
            "layout": "IPY_MODEL_59ecdcd466494511be1019e163283fad",
            "placeholder": "​",
            "style": "IPY_MODEL_779b29d556e34c6d89f9a52f5a53838b",
            "value": " 1.47k/1.47k [00:00&lt;00:00, 95.3kB/s]"
          }
        },
        "4eb53cc7144f4bb5aa72352679536da5": {
          "model_module": "@jupyter-widgets/controls",
          "model_module_version": "1.5.0",
          "model_name": "ProgressStyleModel",
          "state": {
            "_model_module": "@jupyter-widgets/controls",
            "_model_module_version": "1.5.0",
            "_model_name": "ProgressStyleModel",
            "_view_count": null,
            "_view_module": "@jupyter-widgets/base",
            "_view_module_version": "1.2.0",
            "_view_name": "StyleView",
            "bar_color": null,
            "description_width": ""
          }
        },
        "51926d43606249929176d7d1b41f3eaf": {
          "model_module": "@jupyter-widgets/base",
          "model_module_version": "1.2.0",
          "model_name": "LayoutModel",
          "state": {
            "_model_module": "@jupyter-widgets/base",
            "_model_module_version": "1.2.0",
            "_model_name": "LayoutModel",
            "_view_count": null,
            "_view_module": "@jupyter-widgets/base",
            "_view_module_version": "1.2.0",
            "_view_name": "LayoutView",
            "align_content": null,
            "align_items": null,
            "align_self": null,
            "border": null,
            "bottom": null,
            "display": null,
            "flex": null,
            "flex_flow": null,
            "grid_area": null,
            "grid_auto_columns": null,
            "grid_auto_flow": null,
            "grid_auto_rows": null,
            "grid_column": null,
            "grid_gap": null,
            "grid_row": null,
            "grid_template_areas": null,
            "grid_template_columns": null,
            "grid_template_rows": null,
            "height": null,
            "justify_content": null,
            "justify_items": null,
            "left": null,
            "margin": null,
            "max_height": null,
            "max_width": null,
            "min_height": null,
            "min_width": null,
            "object_fit": null,
            "object_position": null,
            "order": null,
            "overflow": null,
            "overflow_x": null,
            "overflow_y": null,
            "padding": null,
            "right": null,
            "top": null,
            "visibility": null,
            "width": null
          }
        },
        "5693158e2f734087929795769097194d": {
          "model_module": "@jupyter-widgets/controls",
          "model_module_version": "1.5.0",
          "model_name": "DescriptionStyleModel",
          "state": {
            "_model_module": "@jupyter-widgets/controls",
            "_model_module_version": "1.5.0",
            "_model_name": "DescriptionStyleModel",
            "_view_count": null,
            "_view_module": "@jupyter-widgets/base",
            "_view_module_version": "1.2.0",
            "_view_name": "StyleView",
            "description_width": ""
          }
        },
        "5899bea8be6b487baf14b29f8ea2d7ce": {
          "model_module": "@jupyter-widgets/controls",
          "model_module_version": "1.5.0",
          "model_name": "ProgressStyleModel",
          "state": {
            "_model_module": "@jupyter-widgets/controls",
            "_model_module_version": "1.5.0",
            "_model_name": "ProgressStyleModel",
            "_view_count": null,
            "_view_module": "@jupyter-widgets/base",
            "_view_module_version": "1.2.0",
            "_view_name": "StyleView",
            "bar_color": null,
            "description_width": ""
          }
        },
        "59ecdcd466494511be1019e163283fad": {
          "model_module": "@jupyter-widgets/base",
          "model_module_version": "1.2.0",
          "model_name": "LayoutModel",
          "state": {
            "_model_module": "@jupyter-widgets/base",
            "_model_module_version": "1.2.0",
            "_model_name": "LayoutModel",
            "_view_count": null,
            "_view_module": "@jupyter-widgets/base",
            "_view_module_version": "1.2.0",
            "_view_name": "LayoutView",
            "align_content": null,
            "align_items": null,
            "align_self": null,
            "border": null,
            "bottom": null,
            "display": null,
            "flex": null,
            "flex_flow": null,
            "grid_area": null,
            "grid_auto_columns": null,
            "grid_auto_flow": null,
            "grid_auto_rows": null,
            "grid_column": null,
            "grid_gap": null,
            "grid_row": null,
            "grid_template_areas": null,
            "grid_template_columns": null,
            "grid_template_rows": null,
            "height": null,
            "justify_content": null,
            "justify_items": null,
            "left": null,
            "margin": null,
            "max_height": null,
            "max_width": null,
            "min_height": null,
            "min_width": null,
            "object_fit": null,
            "object_position": null,
            "order": null,
            "overflow": null,
            "overflow_x": null,
            "overflow_y": null,
            "padding": null,
            "right": null,
            "top": null,
            "visibility": null,
            "width": null
          }
        },
        "5bda1394ab524dc29315d8499ac9476f": {
          "model_module": "@jupyter-widgets/controls",
          "model_module_version": "1.5.0",
          "model_name": "HTMLModel",
          "state": {
            "_dom_classes": [],
            "_model_module": "@jupyter-widgets/controls",
            "_model_module_version": "1.5.0",
            "_model_name": "HTMLModel",
            "_view_count": null,
            "_view_module": "@jupyter-widgets/controls",
            "_view_module_version": "1.5.0",
            "_view_name": "HTMLView",
            "description": "",
            "description_tooltip": null,
            "layout": "IPY_MODEL_3ffdec440cae454eb3444e1f33b0c2e3",
            "placeholder": "​",
            "style": "IPY_MODEL_7729c3ecd6874c1b8e7c8004ef26d96e",
            "value": "model.safetensors: 100%"
          }
        },
        "5c3c637ad2034edf94d00f062eab0f6d": {
          "model_module": "@jupyter-widgets/controls",
          "model_module_version": "1.5.0",
          "model_name": "DescriptionStyleModel",
          "state": {
            "_model_module": "@jupyter-widgets/controls",
            "_model_module_version": "1.5.0",
            "_model_name": "DescriptionStyleModel",
            "_view_count": null,
            "_view_module": "@jupyter-widgets/base",
            "_view_module_version": "1.2.0",
            "_view_name": "StyleView",
            "description_width": ""
          }
        },
        "60604c2b27c840d1850708f9e9f852a7": {
          "model_module": "@jupyter-widgets/controls",
          "model_module_version": "1.5.0",
          "model_name": "DescriptionStyleModel",
          "state": {
            "_model_module": "@jupyter-widgets/controls",
            "_model_module_version": "1.5.0",
            "_model_name": "DescriptionStyleModel",
            "_view_count": null,
            "_view_module": "@jupyter-widgets/base",
            "_view_module_version": "1.2.0",
            "_view_name": "StyleView",
            "description_width": ""
          }
        },
        "7729c3ecd6874c1b8e7c8004ef26d96e": {
          "model_module": "@jupyter-widgets/controls",
          "model_module_version": "1.5.0",
          "model_name": "DescriptionStyleModel",
          "state": {
            "_model_module": "@jupyter-widgets/controls",
            "_model_module_version": "1.5.0",
            "_model_name": "DescriptionStyleModel",
            "_view_count": null,
            "_view_module": "@jupyter-widgets/base",
            "_view_module_version": "1.2.0",
            "_view_name": "StyleView",
            "description_width": ""
          }
        },
        "779b29d556e34c6d89f9a52f5a53838b": {
          "model_module": "@jupyter-widgets/controls",
          "model_module_version": "1.5.0",
          "model_name": "DescriptionStyleModel",
          "state": {
            "_model_module": "@jupyter-widgets/controls",
            "_model_module_version": "1.5.0",
            "_model_name": "DescriptionStyleModel",
            "_view_count": null,
            "_view_module": "@jupyter-widgets/base",
            "_view_module_version": "1.2.0",
            "_view_name": "StyleView",
            "description_width": ""
          }
        },
        "8181ce97f2024e299ea4737c38ef8021": {
          "model_module": "@jupyter-widgets/base",
          "model_module_version": "1.2.0",
          "model_name": "LayoutModel",
          "state": {
            "_model_module": "@jupyter-widgets/base",
            "_model_module_version": "1.2.0",
            "_model_name": "LayoutModel",
            "_view_count": null,
            "_view_module": "@jupyter-widgets/base",
            "_view_module_version": "1.2.0",
            "_view_name": "LayoutView",
            "align_content": null,
            "align_items": null,
            "align_self": null,
            "border": null,
            "bottom": null,
            "display": null,
            "flex": null,
            "flex_flow": null,
            "grid_area": null,
            "grid_auto_columns": null,
            "grid_auto_flow": null,
            "grid_auto_rows": null,
            "grid_column": null,
            "grid_gap": null,
            "grid_row": null,
            "grid_template_areas": null,
            "grid_template_columns": null,
            "grid_template_rows": null,
            "height": null,
            "justify_content": null,
            "justify_items": null,
            "left": null,
            "margin": null,
            "max_height": null,
            "max_width": null,
            "min_height": null,
            "min_width": null,
            "object_fit": null,
            "object_position": null,
            "order": null,
            "overflow": null,
            "overflow_x": null,
            "overflow_y": null,
            "padding": null,
            "right": null,
            "top": null,
            "visibility": null,
            "width": null
          }
        },
        "83732ff1b9ae4bcb8901935d07237a48": {
          "model_module": "@jupyter-widgets/controls",
          "model_module_version": "1.5.0",
          "model_name": "HTMLModel",
          "state": {
            "_dom_classes": [],
            "_model_module": "@jupyter-widgets/controls",
            "_model_module_version": "1.5.0",
            "_model_name": "HTMLModel",
            "_view_count": null,
            "_view_module": "@jupyter-widgets/controls",
            "_view_module_version": "1.5.0",
            "_view_name": "HTMLView",
            "description": "",
            "description_tooltip": null,
            "layout": "IPY_MODEL_c7207b3f25e14bf6bc89839907ce7f40",
            "placeholder": "​",
            "style": "IPY_MODEL_5693158e2f734087929795769097194d",
            "value": "model.safetensors: 100%"
          }
        },
        "a21b3b4d434d4f96aab4ca184c021d0e": {
          "model_module": "@jupyter-widgets/controls",
          "model_module_version": "1.5.0",
          "model_name": "FloatProgressModel",
          "state": {
            "_dom_classes": [],
            "_model_module": "@jupyter-widgets/controls",
            "_model_module_version": "1.5.0",
            "_model_name": "FloatProgressModel",
            "_view_count": null,
            "_view_module": "@jupyter-widgets/controls",
            "_view_module_version": "1.5.0",
            "_view_name": "ProgressView",
            "bar_style": "success",
            "description": "",
            "description_tooltip": null,
            "layout": "IPY_MODEL_d6ae649bdd434f56901e7c5485c43d4e",
            "max": 46807446,
            "min": 0,
            "orientation": "horizontal",
            "style": "IPY_MODEL_5899bea8be6b487baf14b29f8ea2d7ce",
            "value": 46807446
          }
        },
        "a6d6e7ae14a04979ba6078e9542dba54": {
          "model_module": "@jupyter-widgets/controls",
          "model_module_version": "1.5.0",
          "model_name": "ProgressStyleModel",
          "state": {
            "_model_module": "@jupyter-widgets/controls",
            "_model_module_version": "1.5.0",
            "_model_name": "ProgressStyleModel",
            "_view_count": null,
            "_view_module": "@jupyter-widgets/base",
            "_view_module_version": "1.2.0",
            "_view_name": "StyleView",
            "bar_color": null,
            "description_width": ""
          }
        },
        "a8b87f1a836a40c0903773e0807150f3": {
          "model_module": "@jupyter-widgets/controls",
          "model_module_version": "1.5.0",
          "model_name": "HBoxModel",
          "state": {
            "_dom_classes": [],
            "_model_module": "@jupyter-widgets/controls",
            "_model_module_version": "1.5.0",
            "_model_name": "HBoxModel",
            "_view_count": null,
            "_view_module": "@jupyter-widgets/controls",
            "_view_module_version": "1.5.0",
            "_view_name": "HBoxView",
            "box_style": "",
            "children": [
              "IPY_MODEL_5bda1394ab524dc29315d8499ac9476f",
              "IPY_MODEL_a21b3b4d434d4f96aab4ca184c021d0e",
              "IPY_MODEL_02b95bb2701848f499c35d447fc70fb9"
            ],
            "layout": "IPY_MODEL_51926d43606249929176d7d1b41f3eaf"
          }
        },
        "bc62b892b51d415aacdcb8bb0de7720d": {
          "model_module": "@jupyter-widgets/base",
          "model_module_version": "1.2.0",
          "model_name": "LayoutModel",
          "state": {
            "_model_module": "@jupyter-widgets/base",
            "_model_module_version": "1.2.0",
            "_model_name": "LayoutModel",
            "_view_count": null,
            "_view_module": "@jupyter-widgets/base",
            "_view_module_version": "1.2.0",
            "_view_name": "LayoutView",
            "align_content": null,
            "align_items": null,
            "align_self": null,
            "border": null,
            "bottom": null,
            "display": null,
            "flex": null,
            "flex_flow": null,
            "grid_area": null,
            "grid_auto_columns": null,
            "grid_auto_flow": null,
            "grid_auto_rows": null,
            "grid_column": null,
            "grid_gap": null,
            "grid_row": null,
            "grid_template_areas": null,
            "grid_template_columns": null,
            "grid_template_rows": null,
            "height": null,
            "justify_content": null,
            "justify_items": null,
            "left": null,
            "margin": null,
            "max_height": null,
            "max_width": null,
            "min_height": null,
            "min_width": null,
            "object_fit": null,
            "object_position": null,
            "order": null,
            "overflow": null,
            "overflow_x": null,
            "overflow_y": null,
            "padding": null,
            "right": null,
            "top": null,
            "visibility": null,
            "width": null
          }
        },
        "c3d58eefa0d34158bdcfbfd2e0a17387": {
          "model_module": "@jupyter-widgets/base",
          "model_module_version": "1.2.0",
          "model_name": "LayoutModel",
          "state": {
            "_model_module": "@jupyter-widgets/base",
            "_model_module_version": "1.2.0",
            "_model_name": "LayoutModel",
            "_view_count": null,
            "_view_module": "@jupyter-widgets/base",
            "_view_module_version": "1.2.0",
            "_view_name": "LayoutView",
            "align_content": null,
            "align_items": null,
            "align_self": null,
            "border": null,
            "bottom": null,
            "display": null,
            "flex": null,
            "flex_flow": null,
            "grid_area": null,
            "grid_auto_columns": null,
            "grid_auto_flow": null,
            "grid_auto_rows": null,
            "grid_column": null,
            "grid_gap": null,
            "grid_row": null,
            "grid_template_areas": null,
            "grid_template_columns": null,
            "grid_template_rows": null,
            "height": null,
            "justify_content": null,
            "justify_items": null,
            "left": null,
            "margin": null,
            "max_height": null,
            "max_width": null,
            "min_height": null,
            "min_width": null,
            "object_fit": null,
            "object_position": null,
            "order": null,
            "overflow": null,
            "overflow_x": null,
            "overflow_y": null,
            "padding": null,
            "right": null,
            "top": null,
            "visibility": null,
            "width": null
          }
        },
        "c7207b3f25e14bf6bc89839907ce7f40": {
          "model_module": "@jupyter-widgets/base",
          "model_module_version": "1.2.0",
          "model_name": "LayoutModel",
          "state": {
            "_model_module": "@jupyter-widgets/base",
            "_model_module_version": "1.2.0",
            "_model_name": "LayoutModel",
            "_view_count": null,
            "_view_module": "@jupyter-widgets/base",
            "_view_module_version": "1.2.0",
            "_view_name": "LayoutView",
            "align_content": null,
            "align_items": null,
            "align_self": null,
            "border": null,
            "bottom": null,
            "display": null,
            "flex": null,
            "flex_flow": null,
            "grid_area": null,
            "grid_auto_columns": null,
            "grid_auto_flow": null,
            "grid_auto_rows": null,
            "grid_column": null,
            "grid_gap": null,
            "grid_row": null,
            "grid_template_areas": null,
            "grid_template_columns": null,
            "grid_template_rows": null,
            "height": null,
            "justify_content": null,
            "justify_items": null,
            "left": null,
            "margin": null,
            "max_height": null,
            "max_width": null,
            "min_height": null,
            "min_width": null,
            "object_fit": null,
            "object_position": null,
            "order": null,
            "overflow": null,
            "overflow_x": null,
            "overflow_y": null,
            "padding": null,
            "right": null,
            "top": null,
            "visibility": null,
            "width": null
          }
        },
        "d3e1f27e5031443bb641becd0eb5672e": {
          "model_module": "@jupyter-widgets/base",
          "model_module_version": "1.2.0",
          "model_name": "LayoutModel",
          "state": {
            "_model_module": "@jupyter-widgets/base",
            "_model_module_version": "1.2.0",
            "_model_name": "LayoutModel",
            "_view_count": null,
            "_view_module": "@jupyter-widgets/base",
            "_view_module_version": "1.2.0",
            "_view_name": "LayoutView",
            "align_content": null,
            "align_items": null,
            "align_self": null,
            "border": null,
            "bottom": null,
            "display": null,
            "flex": null,
            "flex_flow": null,
            "grid_area": null,
            "grid_auto_columns": null,
            "grid_auto_flow": null,
            "grid_auto_rows": null,
            "grid_column": null,
            "grid_gap": null,
            "grid_row": null,
            "grid_template_areas": null,
            "grid_template_columns": null,
            "grid_template_rows": null,
            "height": null,
            "justify_content": null,
            "justify_items": null,
            "left": null,
            "margin": null,
            "max_height": null,
            "max_width": null,
            "min_height": null,
            "min_width": null,
            "object_fit": null,
            "object_position": null,
            "order": null,
            "overflow": null,
            "overflow_x": null,
            "overflow_y": null,
            "padding": null,
            "right": null,
            "top": null,
            "visibility": null,
            "width": null
          }
        },
        "d561a72eab0242c58728137cdc1e8dcf": {
          "model_module": "@jupyter-widgets/controls",
          "model_module_version": "1.5.0",
          "model_name": "HBoxModel",
          "state": {
            "_dom_classes": [],
            "_model_module": "@jupyter-widgets/controls",
            "_model_module_version": "1.5.0",
            "_model_name": "HBoxModel",
            "_view_count": null,
            "_view_module": "@jupyter-widgets/controls",
            "_view_module_version": "1.5.0",
            "_view_name": "HBoxView",
            "box_style": "",
            "children": [
              "IPY_MODEL_83732ff1b9ae4bcb8901935d07237a48",
              "IPY_MODEL_330a8b08bf5943299c3e8f224ee03a23",
              "IPY_MODEL_f319f9e1308f4cb2be47284d6735b91e"
            ],
            "layout": "IPY_MODEL_bc62b892b51d415aacdcb8bb0de7720d"
          }
        },
        "d6ae649bdd434f56901e7c5485c43d4e": {
          "model_module": "@jupyter-widgets/base",
          "model_module_version": "1.2.0",
          "model_name": "LayoutModel",
          "state": {
            "_model_module": "@jupyter-widgets/base",
            "_model_module_version": "1.2.0",
            "_model_name": "LayoutModel",
            "_view_count": null,
            "_view_module": "@jupyter-widgets/base",
            "_view_module_version": "1.2.0",
            "_view_name": "LayoutView",
            "align_content": null,
            "align_items": null,
            "align_self": null,
            "border": null,
            "bottom": null,
            "display": null,
            "flex": null,
            "flex_flow": null,
            "grid_area": null,
            "grid_auto_columns": null,
            "grid_auto_flow": null,
            "grid_auto_rows": null,
            "grid_column": null,
            "grid_gap": null,
            "grid_row": null,
            "grid_template_areas": null,
            "grid_template_columns": null,
            "grid_template_rows": null,
            "height": null,
            "justify_content": null,
            "justify_items": null,
            "left": null,
            "margin": null,
            "max_height": null,
            "max_width": null,
            "min_height": null,
            "min_width": null,
            "object_fit": null,
            "object_position": null,
            "order": null,
            "overflow": null,
            "overflow_x": null,
            "overflow_y": null,
            "padding": null,
            "right": null,
            "top": null,
            "visibility": null,
            "width": null
          }
        },
        "e12d4298f6dc48deb9e1d273203d4b9d": {
          "model_module": "@jupyter-widgets/controls",
          "model_module_version": "1.5.0",
          "model_name": "HBoxModel",
          "state": {
            "_dom_classes": [],
            "_model_module": "@jupyter-widgets/controls",
            "_model_module_version": "1.5.0",
            "_model_name": "HBoxModel",
            "_view_count": null,
            "_view_module": "@jupyter-widgets/controls",
            "_view_module_version": "1.5.0",
            "_view_name": "HBoxView",
            "box_style": "",
            "children": [
              "IPY_MODEL_041c473c443f49b7a2ca228a5e188dd4",
              "IPY_MODEL_ecd7b49b88554b3cb76ea643e51a227a",
              "IPY_MODEL_4bbbf5e46bf94e92a7528d66180c0819"
            ],
            "layout": "IPY_MODEL_288c1903cfe14b8090d5a42cf7097533"
          }
        },
        "ecd7b49b88554b3cb76ea643e51a227a": {
          "model_module": "@jupyter-widgets/controls",
          "model_module_version": "1.5.0",
          "model_name": "FloatProgressModel",
          "state": {
            "_dom_classes": [],
            "_model_module": "@jupyter-widgets/controls",
            "_model_module_version": "1.5.0",
            "_model_name": "FloatProgressModel",
            "_view_count": null,
            "_view_module": "@jupyter-widgets/controls",
            "_view_module_version": "1.5.0",
            "_view_name": "ProgressView",
            "bar_style": "success",
            "description": "",
            "description_tooltip": null,
            "layout": "IPY_MODEL_2d8382722fc24a689e43cde809cc58bc",
            "max": 1469,
            "min": 0,
            "orientation": "horizontal",
            "style": "IPY_MODEL_4eb53cc7144f4bb5aa72352679536da5",
            "value": 1469
          }
        },
        "f319f9e1308f4cb2be47284d6735b91e": {
          "model_module": "@jupyter-widgets/controls",
          "model_module_version": "1.5.0",
          "model_name": "HTMLModel",
          "state": {
            "_dom_classes": [],
            "_model_module": "@jupyter-widgets/controls",
            "_model_module_version": "1.5.0",
            "_model_name": "HTMLModel",
            "_view_count": null,
            "_view_module": "@jupyter-widgets/controls",
            "_view_module_version": "1.5.0",
            "_view_name": "HTMLView",
            "description": "",
            "description_tooltip": null,
            "layout": "IPY_MODEL_2e2b8c9a2f4340ab98d3011410d5f5b1",
            "placeholder": "​",
            "style": "IPY_MODEL_5c3c637ad2034edf94d00f062eab0f6d",
            "value": " 115M/115M [00:01&lt;00:00, 98.5MB/s]"
          }
        }
      }
    }
  },
  "nbformat": 4,
  "nbformat_minor": 0
}
